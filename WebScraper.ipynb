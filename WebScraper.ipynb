{
 "cells": [
  {
   "cell_type": "code",
   "execution_count": 5,
   "id": "956e093f-c3c4-4e1a-9f23-d15ef5d0f154",
   "metadata": {},
   "outputs": [],
   "source": [
    "import requests\n",
    "from bs4 import BeautifulSoup as bet"
   ]
  },
  {
   "cell_type": "code",
   "execution_count": 6,
   "id": "8632f491-3ffd-4b57-b538-9cdbafc0db78",
   "metadata": {},
   "outputs": [],
   "source": [
    "URL = \"https://www.rottentomatoes.com/m/crimes_of_the_future_2022\"\n",
    "page = requests.get(URL)\n",
    "#print(page.text)"
   ]
  },
  {
   "cell_type": "code",
   "execution_count": 7,
   "id": "7edea23c-2c3f-4c67-99cc-45e16ceb11e2",
   "metadata": {},
   "outputs": [],
   "source": [
    "soup = bet(page.content, \"html.parser\")\n",
    "#print(soup)"
   ]
  },
  {
   "cell_type": "code",
   "execution_count": 24,
   "id": "1ba509bc-2032-47dc-921c-2ec152fdb370",
   "metadata": {},
   "outputs": [],
   "source": [
    "result = soup.find(id=\"mainColumn\")\n",
    "#print(results.prettify())"
   ]
  },
  {
   "cell_type": "code",
   "execution_count": 25,
   "id": "c28f52ea-aa81-43bb-bf4b-3b96a0cf99aa",
   "metadata": {},
   "outputs": [
    {
     "name": "stdout",
     "output_type": "stream",
     "text": [
      "[<critic-review-bubble createdate=\"June 3, 2022\" criticimageurl=\"http://resizing.flixster.com/JycjVzc6316U8775IVy8VS1v6UU=/128x128/v1.YzsyNjA3O2c7MTkxNzA7MjA0ODsxNTA7MTUw\" data-qa=\"critic-review\" istopcritic=\"true\" originalscore=\"\" reviewquote=\"It’s both a nightmare and a wan farce, the kind of tonal blend that only Cronenberg could create, and despite his cynicism about what awaits us, I hope he never stops thinking ahead.\" scorestate=\"fresh\" skeleton=\"panel\">\n",
      "<a data-qa=\"full-review-link\" href=\"https://www.theatlantic.com/culture/archive/2022/06/crimes-of-the-future-movie-review-david-cronenberg/661170/\" slot=\"review-url\" target=\"_blank\">\n",
      "                            Full Review…\n",
      "                        </a>\n",
      "<a class=\"unstyled articleLink critic-name\" data-qa=\"critic-name\" href=\"/critics/david-sims\" slot=\"critic-link\">\n",
      "                            David Sims\n",
      "                        </a>\n",
      "<a class=\"critic-source small subtle articleLink\" data-qa=\"source-link\" href=\"/critics/source/24\" slot=\"publication-link\">\n",
      "                            The Atlantic\n",
      "                        </a>\n",
      "</critic-review-bubble>, <critic-review-bubble createdate=\"June 3, 2022\" criticimageurl=\"http://resizing.flixster.com/0vWauzey2XX7xlk005T6lgh87UQ=/38x51/v1.YzsxNTA3O2c7MTkxNzA7MjA0ODszODs1MQ\" data-qa=\"critic-review\" istopcritic=\"true\" originalscore=\"3.5/4\" reviewquote=\"If you’re reading this and snorting in disbelief, I invite you to consider that Cronenberg is bleakly chortling right along with you.\" scorestate=\"fresh\" skeleton=\"panel\">\n",
      "<a data-qa=\"full-review-link\" href=\"https://tyburrswatchlist.substack.com/p/what-to-watch-emergency-crimes-of\" slot=\"review-url\" target=\"_blank\">\n",
      "                            Full Review…\n",
      "                        </a>\n",
      "<a class=\"unstyled articleLink critic-name\" data-qa=\"critic-name\" href=\"/critics/ty-burr\" slot=\"critic-link\">\n",
      "                            Ty Burr\n",
      "                        </a>\n",
      "<a class=\"critic-source small subtle articleLink\" data-qa=\"source-link\" href=\"/critics/source/4071\" slot=\"publication-link\">\n",
      "                            Ty Burr's Watch List\n",
      "                        </a>\n",
      "</critic-review-bubble>]\n"
     ]
    }
   ],
   "source": [
    "location_element = result.find_all('critic-review-bubble', limit = 2)\n",
    "print(location_element)\n",
    "#element = location_element.find_all('div', class_='review-quote')"
   ]
  },
  {
   "cell_type": "code",
   "execution_count": null,
   "id": "b124819e-b538-4688-8460-810f6a29ed12",
   "metadata": {},
   "outputs": [],
   "source": [
    "#for job_element in job_elements:\n",
    "#    print(job_element, end=\"\\n\"*2)\n",
    "   "
   ]
  },
  {
   "cell_type": "code",
   "execution_count": null,
   "id": "eb37de72-06e5-4168-aa2b-8d9676668edb",
   "metadata": {},
   "outputs": [],
   "source": [
    "#for job_element in job_elements:\n",
    "#    print(job_element, end=\"\\n\"*2)\n",
    "    \n",
    "#for job_element in job_elements:\n",
    "#    reviewquote = job_element.find(\"p\", class_=\"quote\")\n",
    "#    print(reviewquote.text.strip())\n",
    "#    location_element = job_element.find(\"p\", class_=\"location\")\n",
    "#    print(title_element.text.strip())\n",
    "#    print(company_element.text.strip())\n",
    "#    print(location_element.text.strip())\n",
    "    \n",
    "\n",
    "#python_jobs = results.find_all(\n",
    "#    \"h2\", string=lambda text: \"python\" in text.lower()\n",
    "#)    "
   ]
  },
  {
   "cell_type": "code",
   "execution_count": null,
   "id": "12b9f4d1-b1a6-4768-86f7-e93ec06420b5",
   "metadata": {},
   "outputs": [],
   "source": []
  },
  {
   "cell_type": "code",
   "execution_count": null,
   "id": "f3d43178-4529-4491-8c13-698e08e3337c",
   "metadata": {},
   "outputs": [],
   "source": []
  }
 ],
 "metadata": {
  "kernelspec": {
   "display_name": "Python 3 (ipykernel)",
   "language": "python",
   "name": "python3"
  },
  "language_info": {
   "codemirror_mode": {
    "name": "ipython",
    "version": 3
   },
   "file_extension": ".py",
   "mimetype": "text/x-python",
   "name": "python",
   "nbconvert_exporter": "python",
   "pygments_lexer": "ipython3",
   "version": "3.9.12"
  }
 },
 "nbformat": 4,
 "nbformat_minor": 5
}
