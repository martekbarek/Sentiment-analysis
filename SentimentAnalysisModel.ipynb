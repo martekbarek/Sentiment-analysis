{
 "cells": [
  {
   "cell_type": "code",
   "execution_count": 12,
   "id": "2d2a255c-7a8c-40b0-aa49-f32a42b0ffa5",
   "metadata": {},
   "outputs": [],
   "source": [
    "import numpy as np\n",
    "import pandas as pd\n",
    "from keras.datasets import imdb\n",
    "from keras import models, regularizers, layers"
   ]
  },
  {
   "cell_type": "markdown",
   "id": "d9ac6373",
   "metadata": {},
   "source": [
    "GDYBY BYŁY PROBLEMY Z WYUCZENIEM MODELU (ale nie musicie go trenować bo wymęczyłem lapka już) --> https://stackoverflow.com/questions/57507832/unable-to-allocate-array-with-shape-and-data-type\n",
    "\n",
    "\n",
    "Tu tutek dla windowsa:\n",
    "\n",
    "\n",
    "1.Press the Windows key\n",
    "\n",
    "2.Type SystemPropertiesAdvanced\n",
    "\n",
    "3.Click Run as administrator\n",
    "\n",
    "4.Under Performance, click Settings\n",
    "\n",
    "5.Select the Advanced tab\n",
    "\n",
    "6.Select Change...\n",
    "\n",
    "7.Uncheck Automatically managing paging file size for all drives\n",
    "\n",
    "8.Then select Custom size and fill in the appropriate size\n",
    "\n",
    "9.Press Set then press OK then exit from the Virtual Memory, Performance Options, and System Properties Dialog\n",
    "\n",
    "10.Reboot your system"
   ]
  },
  {
   "cell_type": "code",
   "execution_count": 13,
   "id": "f2722d57-f305-425a-9fb2-6067610651fc",
   "metadata": {},
   "outputs": [],
   "source": [
    "(train_X, train_y), (test_X, test_y) = imdb.load_data(\n",
    "num_words=88584)"
   ]
  },
  {
   "cell_type": "code",
   "execution_count": 14,
   "id": "54090cb6-c1d8-4109-b49c-6c9279c69fab",
   "metadata": {},
   "outputs": [
    {
     "data": {
      "text/plain": [
       "88584"
      ]
     },
     "execution_count": 14,
     "metadata": {},
     "output_type": "execute_result"
    }
   ],
   "source": [
    "word_index = imdb.get_word_index()\n",
    "len(word_index)"
   ]
  },
  {
   "cell_type": "code",
   "execution_count": 15,
   "id": "7aef0a72-17f6-4706-ac95-de29b04d1327",
   "metadata": {},
   "outputs": [],
   "source": [
    "# Save\n",
    "np.save('word_index.npy', word_index) \n"
   ]
  },
  {
   "cell_type": "code",
   "execution_count": 16,
   "id": "34ac5860-ca5c-409b-a8e3-f847589d38a0",
   "metadata": {},
   "outputs": [],
   "source": [
    "# orderedMapOfWords = sorted(word_index.items(), key=lambda x: x[1], reverse=False)\n",
    "# print(orderedMapOfWords)"
   ]
  },
  {
   "cell_type": "code",
   "execution_count": 17,
   "id": "8d386edf-187f-4770-a469-6b8f89c51ad5",
   "metadata": {},
   "outputs": [],
   "source": [
    "def vectorize_reviews(reviews, length=88584):\n",
    "    results = np.zeros((len(reviews), length))\n",
    "    for i, review in enumerate(reviews):\n",
    "        results[i, review] = 1\n",
    "    return results"
   ]
  },
  {
   "cell_type": "code",
   "execution_count": 18,
   "id": "a47fdeae-3b04-421d-a71d-897bf01f1ab8",
   "metadata": {},
   "outputs": [
    {
     "name": "stdout",
     "output_type": "stream",
     "text": [
      "<built-in method astype of numpy.ndarray object at 0x000002B4368C79F0>\n"
     ]
    },
    {
     "data": {
      "text/plain": [
       "88584"
      ]
     },
     "execution_count": 18,
     "metadata": {},
     "output_type": "execute_result"
    }
   ],
   "source": [
    "x_train = vectorize_reviews(train_X)\n",
    "x_test = vectorize_reviews(test_X)\n",
    "print(x_train.astype)\n",
    "len(x_train[0])"
   ]
  },
  {
   "cell_type": "code",
   "execution_count": 19,
   "id": "a8ab3d59-b724-4c33-8098-bf3e9bdc3164",
   "metadata": {},
   "outputs": [
    {
     "data": {
      "text/plain": [
       "array([0., 1., 1., 0., 1.], dtype=float32)"
      ]
     },
     "execution_count": 19,
     "metadata": {},
     "output_type": "execute_result"
    }
   ],
   "source": [
    "y_train = np.asarray(train_y).astype('float32')\n",
    "y_test = np.asarray(test_y).astype('float32')\n",
    "y_train[:5]\n",
    "y_test[:5]"
   ]
  },
  {
   "cell_type": "code",
   "execution_count": 20,
   "id": "928fd1a1-8c88-455e-9130-bdcb47ada742",
   "metadata": {},
   "outputs": [],
   "source": [
    "model = models.Sequential()\n",
    "model.add(layers.Dense(16, kernel_regularizer=regularizers.l1_l2(l1=0.001, l2=0.001),activation='relu', input_shape=(88584,)))\n",
    "model.add(layers.Dense(16, kernel_regularizer=regularizers.l1_l2(l1=0.001, l2=0.001),activation='relu'))\n",
    "model.add(layers.Dense(1, activation='sigmoid'))"
   ]
  },
  {
   "cell_type": "code",
   "execution_count": 21,
   "id": "019ada89-c908-48f4-b119-bb8e4a7fba4d",
   "metadata": {},
   "outputs": [
    {
     "name": "stdout",
     "output_type": "stream",
     "text": [
      "Epoch 1/7\n",
      "32/32 [==============================] - 146s 3s/step - loss: 1.8205 - acc: 0.6870 - val_loss: 1.4457 - val_acc: 0.8168\n",
      "Epoch 2/7\n",
      "32/32 [==============================] - 24s 763ms/step - loss: 1.3488 - acc: 0.8126 - val_loss: 1.3651 - val_acc: 0.8093\n",
      "Epoch 3/7\n",
      "32/32 [==============================] - 15s 472ms/step - loss: 1.2843 - acc: 0.8426 - val_loss: 1.3244 - val_acc: 0.8105\n",
      "Epoch 4/7\n",
      "32/32 [==============================] - 13s 414ms/step - loss: 1.2570 - acc: 0.8479 - val_loss: 1.2584 - val_acc: 0.8514\n",
      "Epoch 5/7\n",
      "32/32 [==============================] - 12s 370ms/step - loss: 1.2353 - acc: 0.8576 - val_loss: 1.2825 - val_acc: 0.8363\n",
      "Epoch 6/7\n",
      "32/32 [==============================] - 13s 412ms/step - loss: 1.2201 - acc: 0.8594 - val_loss: 1.2449 - val_acc: 0.8479\n",
      "Epoch 7/7\n",
      "32/32 [==============================] - 13s 414ms/step - loss: 1.2124 - acc: 0.8628 - val_loss: 1.2242 - val_acc: 0.8610\n",
      "782/782 [==============================] - 12s 15ms/step - loss: 1.2267 - acc: 0.8591\n",
      "____________________________________________________________________________________________________\n",
      "Test Loss and Accuracy\n",
      "results  [1.2267042398452759, 0.8590800166130066]\n",
      "INFO:tensorflow:Assets written to: sentimentAnalysis.model\\assets\n"
     ]
    }
   ],
   "source": [
    "NumEpochs = 7\n",
    "BatchSize = 400\n",
    "\n",
    "model.compile(optimizer='rmsprop', loss='binary_crossentropy', metrics=['acc'])\n",
    "\n",
    "history = model.fit(x_train, y_train, epochs=NumEpochs, batch_size=BatchSize, validation_split=0.5)\n",
    "\n",
    "results = model.evaluate(x_test, y_test)\n",
    "print(\"_\"*100)\n",
    "print(\"Test Loss and Accuracy\")\n",
    "print(\"results \", results)\n",
    "history_dict = history.history\n",
    "\n",
    "model.save('sentimentAnalysis.model')"
   ]
  },
  {
   "cell_type": "code",
   "execution_count": null,
   "id": "9f9a4c9e-1555-4cdb-9a3c-a9092a65140c",
   "metadata": {},
   "outputs": [],
   "source": []
  },
  {
   "cell_type": "code",
   "execution_count": null,
   "id": "927dae85-86a9-4c0f-ad63-1fca65eef625",
   "metadata": {},
   "outputs": [],
   "source": []
  },
  {
   "cell_type": "code",
   "execution_count": null,
   "id": "02d61e4e-0318-4607-a74c-8c0cc78cfbde",
   "metadata": {},
   "outputs": [],
   "source": []
  },
  {
   "cell_type": "code",
   "execution_count": null,
   "id": "653e2410-cd15-4f3a-8d93-704255c15106",
   "metadata": {},
   "outputs": [],
   "source": []
  }
 ],
 "metadata": {
  "interpreter": {
   "hash": "81794d4967e6c3204c66dcd87b604927b115b27c00565d3d43f05ba2f3a2cb0d"
  },
  "kernelspec": {
   "display_name": "Python 3.9.1 64-bit",
   "language": "python",
   "name": "python3"
  },
  "language_info": {
   "codemirror_mode": {
    "name": "ipython",
    "version": 3
   },
   "file_extension": ".py",
   "mimetype": "text/x-python",
   "name": "python",
   "nbconvert_exporter": "python",
   "pygments_lexer": "ipython3",
   "version": "3.9.1"
  }
 },
 "nbformat": 4,
 "nbformat_minor": 5
}
