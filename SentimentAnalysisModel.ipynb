{
 "cells": [
  {
   "cell_type": "code",
   "execution_count": 12,
   "id": "2d2a255c-7a8c-40b0-aa49-f32a42b0ffa5",
   "metadata": {},
   "outputs": [],
   "source": [
    "import numpy as np\n",
    "import pandas as pd\n",
    "from keras.datasets import imdb\n",
    "from keras import models, regularizers, layers"
   ]
  },
  {
   "cell_type": "code",
   "execution_count": 13,
   "id": "f2722d57-f305-425a-9fb2-6067610651fc",
   "metadata": {},
   "outputs": [],
   "source": [
    "(train_X, train_y), (test_X, test_y) = imdb.load_data(\n",
    "num_words=10000)"
   ]
  },
  {
   "cell_type": "code",
   "execution_count": 14,
   "id": "54090cb6-c1d8-4109-b49c-6c9279c69fab",
   "metadata": {},
   "outputs": [],
   "source": [
    "word_index = imdb.get_word_index()"
   ]
  },
  {
   "cell_type": "code",
   "execution_count": 15,
   "id": "34ac5860-ca5c-409b-a8e3-f847589d38a0",
   "metadata": {},
   "outputs": [],
   "source": [
    "#orderedMapOfWords = sorted(word_index.items(), key=lambda x: x[1], reverse=False)"
   ]
  },
  {
   "cell_type": "code",
   "execution_count": 16,
   "id": "8d386edf-187f-4770-a469-6b8f89c51ad5",
   "metadata": {},
   "outputs": [],
   "source": [
    "def vectorize_reviews(reviews, length=10000):\n",
    "    results = np.zeros((len(reviews), length))\n",
    "    for i, review in enumerate(reviews):\n",
    "        results[i, review] = 1\n",
    "    return results"
   ]
  },
  {
   "cell_type": "code",
   "execution_count": 17,
   "id": "a47fdeae-3b04-421d-a71d-897bf01f1ab8",
   "metadata": {},
   "outputs": [
    {
     "data": {
      "text/plain": [
       "10000"
      ]
     },
     "execution_count": 17,
     "metadata": {},
     "output_type": "execute_result"
    }
   ],
   "source": [
    "x_train = vectorize_reviews(train_X)\n",
    "x_test = vectorize_reviews(test_X)\n",
    "x_train\n",
    "len(x_train[0])"
   ]
  },
  {
   "cell_type": "code",
   "execution_count": 18,
   "id": "a8ab3d59-b724-4c33-8098-bf3e9bdc3164",
   "metadata": {},
   "outputs": [
    {
     "data": {
      "text/plain": [
       "array([0, 1, 1, 0, 1])"
      ]
     },
     "execution_count": 18,
     "metadata": {},
     "output_type": "execute_result"
    }
   ],
   "source": [
    "y_train = np.asarray(train_y)\n",
    "y_test = np.asarray(test_y)\n",
    "y_train[:5]\n",
    "y_test[:5]"
   ]
  },
  {
   "cell_type": "code",
   "execution_count": 23,
   "id": "928fd1a1-8c88-455e-9130-bdcb47ada742",
   "metadata": {},
   "outputs": [],
   "source": [
    "model = models.Sequential()\n",
    "model.add(layers.Dense(16, kernel_regularizer=regularizers.l1_l2(l1=0.001, l2=0.001),activation='relu', input_shape=(10000,)))\n",
    "model.add(layers.Dense(16, kernel_regularizer=regularizers.l1_l2(l1=0.001, l2=0.001),activation='relu'))\n",
    "model.add(layers.Dense(1, activation='sigmoid'))"
   ]
  },
  {
   "cell_type": "code",
   "execution_count": 25,
   "id": "019ada89-c908-48f4-b119-bb8e4a7fba4d",
   "metadata": {},
   "outputs": [
    {
     "name": "stdout",
     "output_type": "stream",
     "text": [
      "Epoch 1/30\n",
      "32/32 [==============================] - 3s 75ms/step - loss: 0.4125 - acc: 0.9288 - val_loss: 0.4711 - val_acc: 0.8709\n",
      "Epoch 2/30\n",
      "32/32 [==============================] - 1s 28ms/step - loss: 0.3663 - acc: 0.9404 - val_loss: 0.4917 - val_acc: 0.8675\n",
      "Epoch 3/30\n",
      "32/32 [==============================] - 1s 31ms/step - loss: 0.3657 - acc: 0.9398 - val_loss: 0.4767 - val_acc: 0.8732\n",
      "Epoch 4/30\n",
      "32/32 [==============================] - 1s 38ms/step - loss: 0.3627 - acc: 0.9420 - val_loss: 0.4997 - val_acc: 0.8684\n",
      "Epoch 5/30\n",
      "32/32 [==============================] - 1s 31ms/step - loss: 0.3644 - acc: 0.9398 - val_loss: 0.4864 - val_acc: 0.8731\n",
      "Epoch 6/30\n",
      "32/32 [==============================] - 1s 28ms/step - loss: 0.3594 - acc: 0.9460 - val_loss: 0.4896 - val_acc: 0.8730\n",
      "Epoch 7/30\n",
      "32/32 [==============================] - 1s 29ms/step - loss: 0.3614 - acc: 0.9419 - val_loss: 0.5036 - val_acc: 0.8680\n",
      "Epoch 8/30\n",
      "32/32 [==============================] - 1s 33ms/step - loss: 0.3530 - acc: 0.9478 - val_loss: 0.5233 - val_acc: 0.8638\n",
      "Epoch 9/30\n",
      "32/32 [==============================] - 1s 29ms/step - loss: 0.3610 - acc: 0.9424 - val_loss: 0.5204 - val_acc: 0.8696\n",
      "Epoch 10/30\n",
      "32/32 [==============================] - 1s 27ms/step - loss: 0.3557 - acc: 0.9450 - val_loss: 0.5078 - val_acc: 0.8709\n",
      "Epoch 11/30\n",
      "32/32 [==============================] - 1s 27ms/step - loss: 0.3479 - acc: 0.9503 - val_loss: 0.5160 - val_acc: 0.8714\n",
      "Epoch 12/30\n",
      "32/32 [==============================] - 1s 29ms/step - loss: 0.3558 - acc: 0.9443 - val_loss: 0.5147 - val_acc: 0.8703\n",
      "Epoch 13/30\n",
      "32/32 [==============================] - 1s 35ms/step - loss: 0.3519 - acc: 0.9479 - val_loss: 0.5167 - val_acc: 0.8696\n",
      "Epoch 14/30\n",
      "32/32 [==============================] - 1s 33ms/step - loss: 0.3519 - acc: 0.9466 - val_loss: 0.5647 - val_acc: 0.8608\n",
      "Epoch 15/30\n",
      "32/32 [==============================] - 1s 31ms/step - loss: 0.3478 - acc: 0.9490 - val_loss: 0.5279 - val_acc: 0.8710\n",
      "Epoch 16/30\n",
      "32/32 [==============================] - 1s 30ms/step - loss: 0.3463 - acc: 0.9501 - val_loss: 0.6000 - val_acc: 0.8452\n",
      "Epoch 17/30\n",
      "32/32 [==============================] - 1s 28ms/step - loss: 0.3497 - acc: 0.9482 - val_loss: 0.5622 - val_acc: 0.8624\n",
      "Epoch 18/30\n",
      "32/32 [==============================] - 1s 30ms/step - loss: 0.3415 - acc: 0.9541 - val_loss: 0.5335 - val_acc: 0.8701\n",
      "Epoch 19/30\n",
      "32/32 [==============================] - 1s 29ms/step - loss: 0.3522 - acc: 0.9449 - val_loss: 0.5629 - val_acc: 0.8631\n",
      "Epoch 20/30\n",
      "32/32 [==============================] - 1s 30ms/step - loss: 0.3386 - acc: 0.9566 - val_loss: 0.5398 - val_acc: 0.8694\n",
      "Epoch 21/30\n",
      "32/32 [==============================] - 1s 29ms/step - loss: 0.3476 - acc: 0.9516 - val_loss: 0.5393 - val_acc: 0.8697\n",
      "Epoch 22/30\n",
      "32/32 [==============================] - 1s 35ms/step - loss: 0.3393 - acc: 0.9560 - val_loss: 0.5711 - val_acc: 0.8625\n",
      "Epoch 23/30\n",
      "32/32 [==============================] - 1s 41ms/step - loss: 0.3395 - acc: 0.9541 - val_loss: 0.5669 - val_acc: 0.8632\n",
      "Epoch 24/30\n",
      "32/32 [==============================] - 1s 31ms/step - loss: 0.3362 - acc: 0.9571 - val_loss: 0.5469 - val_acc: 0.8694\n",
      "Epoch 25/30\n",
      "32/32 [==============================] - 1s 29ms/step - loss: 0.3426 - acc: 0.9522 - val_loss: 0.5551 - val_acc: 0.8670\n",
      "Epoch 26/30\n",
      "32/32 [==============================] - 1s 30ms/step - loss: 0.3379 - acc: 0.9545 - val_loss: 0.5546 - val_acc: 0.8694\n",
      "Epoch 27/30\n",
      "32/32 [==============================] - 1s 30ms/step - loss: 0.3403 - acc: 0.9522 - val_loss: 0.5554 - val_acc: 0.8682\n",
      "Epoch 28/30\n",
      "32/32 [==============================] - 1s 30ms/step - loss: 0.3377 - acc: 0.9532 - val_loss: 0.5570 - val_acc: 0.8689\n",
      "Epoch 29/30\n",
      "32/32 [==============================] - 1s 30ms/step - loss: 0.3412 - acc: 0.9506 - val_loss: 0.5595 - val_acc: 0.8682\n",
      "Epoch 30/30\n",
      "32/32 [==============================] - 1s 35ms/step - loss: 0.3319 - acc: 0.9564 - val_loss: 0.5603 - val_acc: 0.8694\n",
      "782/782 [==============================] - 3s 4ms/step - loss: 0.5725 - acc: 0.8625\n",
      "____________________________________________________________________________________________________\n",
      "Test Loss and Accuracy\n",
      "results  [0.572515606880188, 0.8625199794769287]\n"
     ]
    }
   ],
   "source": [
    "NumEpochs = 30\n",
    "BatchSize = 400\n",
    "\n",
    "model.compile(optimizer='rmsprop', loss='binary_crossentropy', metrics=['acc'])\n",
    "\n",
    "history = model.fit(x_train, y_train, epochs=NumEpochs, batch_size=BatchSize, validation_split=0.5)\n",
    "\n",
    "results = model.evaluate(x_test, y_test)\n",
    "print(\"_\"*100)\n",
    "print(\"Test Loss and Accuracy\")\n",
    "print(\"results \", results)\n",
    "history_dict = history.history"
   ]
  },
  {
   "cell_type": "code",
   "execution_count": null,
   "id": "9f9a4c9e-1555-4cdb-9a3c-a9092a65140c",
   "metadata": {},
   "outputs": [],
   "source": []
  },
  {
   "cell_type": "code",
   "execution_count": null,
   "id": "927dae85-86a9-4c0f-ad63-1fca65eef625",
   "metadata": {},
   "outputs": [],
   "source": []
  },
  {
   "cell_type": "code",
   "execution_count": null,
   "id": "02d61e4e-0318-4607-a74c-8c0cc78cfbde",
   "metadata": {},
   "outputs": [],
   "source": []
  },
  {
   "cell_type": "code",
   "execution_count": null,
   "id": "653e2410-cd15-4f3a-8d93-704255c15106",
   "metadata": {},
   "outputs": [],
   "source": []
  }
 ],
 "metadata": {
  "kernelspec": {
   "display_name": "Python 3 (ipykernel)",
   "language": "python",
   "name": "python3"
  },
  "language_info": {
   "codemirror_mode": {
    "name": "ipython",
    "version": 3
   },
   "file_extension": ".py",
   "mimetype": "text/x-python",
   "name": "python",
   "nbconvert_exporter": "python",
   "pygments_lexer": "ipython3",
   "version": "3.9.12"
  }
 },
 "nbformat": 4,
 "nbformat_minor": 5
}
