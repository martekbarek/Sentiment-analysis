{
 "cells": [
  {
   "cell_type": "code",
   "execution_count": 61,
   "id": "0952aa11-9178-4a13-9f53-fe08d1013ed5",
   "metadata": {},
   "outputs": [],
   "source": [
    "import tensorflow as tf\n",
    "import numpy as np"
   ]
  },
  {
   "cell_type": "code",
   "execution_count": 62,
   "id": "097145cc-335a-4263-9031-16257f0d2625",
   "metadata": {},
   "outputs": [],
   "source": [
    "model = tf.keras.models.load_model(\"sentimentAnalysis.model\")"
   ]
  },
  {
   "cell_type": "code",
   "execution_count": 63,
   "id": "43d3e86f-6d80-4534-a076-92ef40b5a7a3",
   "metadata": {},
   "outputs": [],
   "source": [
    "def vectorize_review(review, length=88584):\n",
    "    results = np.zeros(length)\n",
    "    for i in review:\n",
    "        results[i] = 1\n",
    "    return results"
   ]
  },
  {
   "cell_type": "code",
   "execution_count": 64,
   "id": "6014c825-f6b4-4fcd-896f-14fe2da3db0e",
   "metadata": {},
   "outputs": [],
   "source": [
    "word_index = np.load('word_index.npy',allow_pickle='TRUE').item()"
   ]
  },
  {
   "cell_type": "code",
   "execution_count": 65,
   "id": "20eec47a-c1f6-4ef5-8692-1d8629b5fa17",
   "metadata": {},
   "outputs": [],
   "source": [
    "def convert(input):\n",
    "    encodedString = []\n",
    "    stringArray=input.split()\n",
    "    for word in stringArray:\n",
    "        dictValue = word_index.get(word, None)\n",
    "        if dictValue is not None:\n",
    "            encodedString.append(dictValue)\n",
    "    return np.asarray([vectorize_review(encodedString)]).astype('float32')\n",
    "    "
   ]
  },
  {
   "cell_type": "code",
   "execution_count": 66,
   "id": "5169e81a-aa24-425d-8809-82522691af4e",
   "metadata": {},
   "outputs": [],
   "source": [
    "convertedReview=convert('Pretty bad movie shit') #TU WPISUJEMY KOMENTARZ LOL"
   ]
  },
  {
   "cell_type": "code",
   "execution_count": 67,
   "id": "8c590dda-370b-4d4f-948b-a22eb6aa279a",
   "metadata": {},
   "outputs": [
    {
     "ename": "ValueError",
     "evalue": "in user code:\n\n    File \"c:\\Python39\\lib\\site-packages\\keras\\engine\\training.py\", line 1845, in predict_function  *\n        return step_function(self, iterator)\n    File \"c:\\Python39\\lib\\site-packages\\keras\\engine\\training.py\", line 1834, in step_function  **\n        outputs = model.distribute_strategy.run(run_step, args=(data,))\n    File \"c:\\Python39\\lib\\site-packages\\keras\\engine\\training.py\", line 1823, in run_step  **\n        outputs = model.predict_step(data)\n    File \"c:\\Python39\\lib\\site-packages\\keras\\engine\\training.py\", line 1791, in predict_step\n        return self(x, training=False)\n    File \"c:\\Python39\\lib\\site-packages\\keras\\utils\\traceback_utils.py\", line 67, in error_handler\n        raise e.with_traceback(filtered_tb) from None\n    File \"c:\\Python39\\lib\\site-packages\\keras\\engine\\input_spec.py\", line 264, in assert_input_compatibility\n        raise ValueError(f'Input {input_index} of layer \"{layer_name}\" is '\n\n    ValueError: Input 0 of layer \"sequential\" is incompatible with the layer: expected shape=(None, 10000), found shape=(None, 88585)\n",
     "output_type": "error",
     "traceback": [
      "\u001b[1;31m---------------------------------------------------------------------------\u001b[0m",
      "\u001b[1;31mValueError\u001b[0m                                Traceback (most recent call last)",
      "\u001b[1;32me:\\Repos\\MIWprojekt\\SentimentAnalysis.ipynb Cell 7'\u001b[0m in \u001b[0;36m<cell line: 1>\u001b[1;34m()\u001b[0m\n\u001b[1;32m----> <a href='vscode-notebook-cell:/e%3A/Repos/MIWprojekt/SentimentAnalysis.ipynb#ch0000006?line=0'>1</a>\u001b[0m prediction \u001b[39m=\u001b[39m model\u001b[39m.\u001b[39;49mpredict(convertedReview)\n\u001b[0;32m      <a href='vscode-notebook-cell:/e%3A/Repos/MIWprojekt/SentimentAnalysis.ipynb#ch0000006?line=1'>2</a>\u001b[0m \u001b[39mprint\u001b[39m(prediction)\n",
      "File \u001b[1;32mc:\\Python39\\lib\\site-packages\\keras\\utils\\traceback_utils.py:67\u001b[0m, in \u001b[0;36mfilter_traceback.<locals>.error_handler\u001b[1;34m(*args, **kwargs)\u001b[0m\n\u001b[0;32m     <a href='file:///c%3A/Python39/lib/site-packages/keras/utils/traceback_utils.py?line=64'>65</a>\u001b[0m \u001b[39mexcept\u001b[39;00m \u001b[39mException\u001b[39;00m \u001b[39mas\u001b[39;00m e:  \u001b[39m# pylint: disable=broad-except\u001b[39;00m\n\u001b[0;32m     <a href='file:///c%3A/Python39/lib/site-packages/keras/utils/traceback_utils.py?line=65'>66</a>\u001b[0m   filtered_tb \u001b[39m=\u001b[39m _process_traceback_frames(e\u001b[39m.\u001b[39m__traceback__)\n\u001b[1;32m---> <a href='file:///c%3A/Python39/lib/site-packages/keras/utils/traceback_utils.py?line=66'>67</a>\u001b[0m   \u001b[39mraise\u001b[39;00m e\u001b[39m.\u001b[39mwith_traceback(filtered_tb) \u001b[39mfrom\u001b[39;00m \u001b[39mNone\u001b[39m\n\u001b[0;32m     <a href='file:///c%3A/Python39/lib/site-packages/keras/utils/traceback_utils.py?line=67'>68</a>\u001b[0m \u001b[39mfinally\u001b[39;00m:\n\u001b[0;32m     <a href='file:///c%3A/Python39/lib/site-packages/keras/utils/traceback_utils.py?line=68'>69</a>\u001b[0m   \u001b[39mdel\u001b[39;00m filtered_tb\n",
      "File \u001b[1;32m~\\AppData\\Local\\Temp\\__autograph_generated_files8efx2nf.py:15\u001b[0m, in \u001b[0;36mouter_factory.<locals>.inner_factory.<locals>.tf__predict_function\u001b[1;34m(iterator)\u001b[0m\n\u001b[0;32m     <a href='file:///c%3A/Users/tomek/AppData/Local/Temp/__autograph_generated_files8efx2nf.py?line=12'>13</a>\u001b[0m \u001b[39mtry\u001b[39;00m:\n\u001b[0;32m     <a href='file:///c%3A/Users/tomek/AppData/Local/Temp/__autograph_generated_files8efx2nf.py?line=13'>14</a>\u001b[0m     do_return \u001b[39m=\u001b[39m \u001b[39mTrue\u001b[39;00m\n\u001b[1;32m---> <a href='file:///c%3A/Users/tomek/AppData/Local/Temp/__autograph_generated_files8efx2nf.py?line=14'>15</a>\u001b[0m     retval_ \u001b[39m=\u001b[39m ag__\u001b[39m.\u001b[39mconverted_call(ag__\u001b[39m.\u001b[39mld(step_function), (ag__\u001b[39m.\u001b[39mld(\u001b[39mself\u001b[39m), ag__\u001b[39m.\u001b[39mld(iterator)), \u001b[39mNone\u001b[39;00m, fscope)\n\u001b[0;32m     <a href='file:///c%3A/Users/tomek/AppData/Local/Temp/__autograph_generated_files8efx2nf.py?line=15'>16</a>\u001b[0m \u001b[39mexcept\u001b[39;00m:\n\u001b[0;32m     <a href='file:///c%3A/Users/tomek/AppData/Local/Temp/__autograph_generated_files8efx2nf.py?line=16'>17</a>\u001b[0m     do_return \u001b[39m=\u001b[39m \u001b[39mFalse\u001b[39;00m\n",
      "\u001b[1;31mValueError\u001b[0m: in user code:\n\n    File \"c:\\Python39\\lib\\site-packages\\keras\\engine\\training.py\", line 1845, in predict_function  *\n        return step_function(self, iterator)\n    File \"c:\\Python39\\lib\\site-packages\\keras\\engine\\training.py\", line 1834, in step_function  **\n        outputs = model.distribute_strategy.run(run_step, args=(data,))\n    File \"c:\\Python39\\lib\\site-packages\\keras\\engine\\training.py\", line 1823, in run_step  **\n        outputs = model.predict_step(data)\n    File \"c:\\Python39\\lib\\site-packages\\keras\\engine\\training.py\", line 1791, in predict_step\n        return self(x, training=False)\n    File \"c:\\Python39\\lib\\site-packages\\keras\\utils\\traceback_utils.py\", line 67, in error_handler\n        raise e.with_traceback(filtered_tb) from None\n    File \"c:\\Python39\\lib\\site-packages\\keras\\engine\\input_spec.py\", line 264, in assert_input_compatibility\n        raise ValueError(f'Input {input_index} of layer \"{layer_name}\" is '\n\n    ValueError: Input 0 of layer \"sequential\" is incompatible with the layer: expected shape=(None, 10000), found shape=(None, 88585)\n"
     ]
    }
   ],
   "source": [
    "prediction = model.predict(convertedReview)\n",
    "print(prediction)"
   ]
  },
  {
   "cell_type": "code",
   "execution_count": null,
   "id": "d0455d1b-14c2-493e-805b-f682e43b5198",
   "metadata": {},
   "outputs": [],
   "source": [
    "def decide(pred):\n",
    "    if pred > 0.51:\n",
    "        print('positive')\n",
    "    elif pred > 0.49 and pred <0.51:\n",
    "        print('neutral')\n",
    "    else:\n",
    "        print('negative')"
   ]
  },
  {
   "cell_type": "code",
   "execution_count": null,
   "id": "be778db6-5f7d-4f5a-817f-ecaae80547c3",
   "metadata": {},
   "outputs": [
    {
     "name": "stdout",
     "output_type": "stream",
     "text": [
      "positive\n"
     ]
    }
   ],
   "source": [
    "sentiment = decide(prediction)"
   ]
  },
  {
   "cell_type": "code",
   "execution_count": null,
   "id": "39394c53-4a9d-4362-aca9-d88d435f9518",
   "metadata": {},
   "outputs": [],
   "source": []
  },
  {
   "cell_type": "code",
   "execution_count": null,
   "id": "8cd35e62-094c-4070-8ab1-c28c6d4a3270",
   "metadata": {},
   "outputs": [],
   "source": []
  }
 ],
 "metadata": {
  "interpreter": {
   "hash": "81794d4967e6c3204c66dcd87b604927b115b27c00565d3d43f05ba2f3a2cb0d"
  },
  "kernelspec": {
   "display_name": "Python 3.9.1 64-bit",
   "language": "python",
   "name": "python3"
  },
  "language_info": {
   "codemirror_mode": {
    "name": "ipython",
    "version": 3
   },
   "file_extension": ".py",
   "mimetype": "text/x-python",
   "name": "python",
   "nbconvert_exporter": "python",
   "pygments_lexer": "ipython3",
   "version": "3.9.1"
  }
 },
 "nbformat": 4,
 "nbformat_minor": 5
}
