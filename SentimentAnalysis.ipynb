{
 "cells": [
  {
   "cell_type": "code",
   "execution_count": 158,
   "id": "0952aa11-9178-4a13-9f53-fe08d1013ed5",
   "metadata": {},
   "outputs": [],
   "source": [
    "import tensorflow as tf\n",
    "import numpy as np"
   ]
  },
  {
   "cell_type": "code",
   "execution_count": 159,
   "id": "097145cc-335a-4263-9031-16257f0d2625",
   "metadata": {},
   "outputs": [],
   "source": [
    "model = tf.keras.models.load_model(\"sentimentAnalysis.model\")"
   ]
  },
  {
   "cell_type": "code",
   "execution_count": 160,
   "id": "43d3e86f-6d80-4534-a076-92ef40b5a7a3",
   "metadata": {},
   "outputs": [],
   "source": [
    "def vectorize_review(review, length=88584):\n",
    "    results = np.zeros(length)\n",
    "    for i in review:\n",
    "        results[i] = 1\n",
    "    return results"
   ]
  },
  {
   "cell_type": "code",
   "execution_count": 161,
   "id": "6014c825-f6b4-4fcd-896f-14fe2da3db0e",
   "metadata": {},
   "outputs": [],
   "source": [
    "word_index = np.load('word_index.npy',allow_pickle='TRUE').item()"
   ]
  },
  {
   "cell_type": "code",
   "execution_count": 162,
   "id": "20eec47a-c1f6-4ef5-8692-1d8629b5fa17",
   "metadata": {},
   "outputs": [],
   "source": [
    "def convert(input):\n",
    "    encodedString = []\n",
    "    stringArray=input.split()\n",
    "    for word in stringArray:\n",
    "        word = word.lower()\n",
    "        word = word.translate(str.maketrans('', '', string.punctuation))\n",
    "        dictValue = word_index.get(word, None)\n",
    "        print(dictValue)\n",
    "        if dictValue is not None:\n",
    "            encodedString.append(dictValue)\n",
    "    return np.asarray([vectorize_review(encodedString)]).astype('float32')\n",
    "    "
   ]
  },
  {
   "cell_type": "code",
   "execution_count": 163,
   "id": "5169e81a-aa24-425d-8809-82522691af4e",
   "metadata": {},
   "outputs": [
    {
     "name": "stdout",
     "output_type": "stream",
     "text": [
      "17857\n",
      "17\n",
      "None\n",
      "18\n",
      "10\n",
      "37\n",
      "1475\n",
      "4953\n"
     ]
    }
   ],
   "source": [
    "convertedReview=convert('Shitty movie, , but I like Bruce Willis') #TU WPISUJEMY KOMENTARZ LOL"
   ]
  },
  {
   "cell_type": "code",
   "execution_count": 164,
   "id": "a83d895c",
   "metadata": {},
   "outputs": [
    {
     "data": {
      "text/plain": [
       "array([[0., 0., 0., ..., 0., 0., 0.]], dtype=float32)"
      ]
     },
     "execution_count": 164,
     "metadata": {},
     "output_type": "execute_result"
    }
   ],
   "source": [
    "convertedReview"
   ]
  },
  {
   "cell_type": "code",
   "execution_count": 165,
   "id": "8c590dda-370b-4d4f-948b-a22eb6aa279a",
   "metadata": {},
   "outputs": [
    {
     "name": "stdout",
     "output_type": "stream",
     "text": [
      "1/1 [==============================] - 0s 61ms/step\n",
      "[[0.45974895]]\n"
     ]
    }
   ],
   "source": [
    "prediction = model.predict(convertedReview)\n",
    "print(prediction)"
   ]
  },
  {
   "cell_type": "code",
   "execution_count": 166,
   "id": "d0455d1b-14c2-493e-805b-f682e43b5198",
   "metadata": {},
   "outputs": [],
   "source": [
    "def decide(pred):\n",
    "    if pred > 0.51:\n",
    "        print('positive')\n",
    "    elif pred > 0.49 and pred <0.51:\n",
    "        print('neutral')\n",
    "    else:\n",
    "        print('negative')"
   ]
  },
  {
   "cell_type": "code",
   "execution_count": 167,
   "id": "be778db6-5f7d-4f5a-817f-ecaae80547c3",
   "metadata": {},
   "outputs": [
    {
     "name": "stdout",
     "output_type": "stream",
     "text": [
      "negative\n"
     ]
    }
   ],
   "source": [
    "sentiment = decide(prediction)"
   ]
  },
  {
   "cell_type": "code",
   "execution_count": null,
   "id": "39394c53-4a9d-4362-aca9-d88d435f9518",
   "metadata": {},
   "outputs": [],
   "source": []
  },
  {
   "cell_type": "code",
   "execution_count": null,
   "id": "8cd35e62-094c-4070-8ab1-c28c6d4a3270",
   "metadata": {},
   "outputs": [],
   "source": []
  }
 ],
 "metadata": {
  "interpreter": {
   "hash": "81794d4967e6c3204c66dcd87b604927b115b27c00565d3d43f05ba2f3a2cb0d"
  },
  "kernelspec": {
   "display_name": "Python 3.9.1 64-bit",
   "language": "python",
   "name": "python3"
  },
  "language_info": {
   "codemirror_mode": {
    "name": "ipython",
    "version": 3
   },
   "file_extension": ".py",
   "mimetype": "text/x-python",
   "name": "python",
   "nbconvert_exporter": "python",
   "pygments_lexer": "ipython3",
   "version": "3.9.1"
  }
 },
 "nbformat": 4,
 "nbformat_minor": 5
}
