{
 "cells": [
  {
   "cell_type": "code",
   "execution_count": 11,
   "id": "0952aa11-9178-4a13-9f53-fe08d1013ed5",
   "metadata": {},
   "outputs": [],
   "source": [
    "import tensorflow as tf\n",
    "import numpy as np\n",
    "import string"
   ]
  },
  {
   "cell_type": "code",
   "execution_count": 12,
   "id": "097145cc-335a-4263-9031-16257f0d2625",
   "metadata": {},
   "outputs": [],
   "source": [
    "model = tf.keras.models.load_model(\"sentimentAnalysis.model\")"
   ]
  },
  {
   "cell_type": "code",
   "execution_count": 13,
   "id": "43d3e86f-6d80-4534-a076-92ef40b5a7a3",
   "metadata": {},
   "outputs": [],
   "source": [
    "def vectorize_review(review, length=88584):\n",
    "    results = np.zeros(length)\n",
    "    for i in review:\n",
    "        results[i] = 1\n",
    "    return results"
   ]
  },
  {
   "cell_type": "code",
   "execution_count": 14,
   "id": "6014c825-f6b4-4fcd-896f-14fe2da3db0e",
   "metadata": {},
   "outputs": [],
   "source": [
    "word_index = np.load('word_index.npy',allow_pickle='TRUE').item()"
   ]
  },
  {
   "cell_type": "code",
   "execution_count": 15,
   "id": "20eec47a-c1f6-4ef5-8692-1d8629b5fa17",
   "metadata": {},
   "outputs": [],
   "source": [
    "def convert(input):\n",
    "    encodedString = []\n",
    "    stringArray=input.split()\n",
    "    for word in stringArray:\n",
    "        word = word.lower()\n",
    "        word = word.translate(str.maketrans('', '', string.punctuation))\n",
    "        dictValue = word_index.get(word, None)\n",
    "        if dictValue is not None:\n",
    "            encodedString.append(dictValue)\n",
    "    return np.asarray([vectorize_review(encodedString)]).astype('float32')\n",
    "    "
   ]
  },
  {
   "cell_type": "code",
   "execution_count": 16,
   "id": "d0455d1b-14c2-493e-805b-f682e43b5198",
   "metadata": {},
   "outputs": [],
   "source": [
    "def decide(pred):\n",
    "    sentiment = ''\n",
    "    if pred > 0.51:\n",
    "        sentiment = 'positive'\n",
    "    elif pred > 0.49 and pred <0.51:\n",
    "        sentiment = 'neutral'\n",
    "    else:\n",
    "        sentiment = 'negative'\n",
    "    return sentiment"
   ]
  },
  {
   "cell_type": "code",
   "execution_count": 17,
   "id": "39394c53-4a9d-4362-aca9-d88d435f9518",
   "metadata": {},
   "outputs": [],
   "source": [
    "def prediction(review):\n",
    "    convertedReview=convert(review)\n",
    "    prediction = model.predict(convertedReview)\n",
    "    decision = decide(prediction)\n",
    "    \n",
    "    return decision"
   ]
  },
  {
   "cell_type": "code",
   "execution_count": 18,
   "id": "8cd35e62-094c-4070-8ab1-c28c6d4a3270",
   "metadata": {},
   "outputs": [
    {
     "name": "stdout",
     "output_type": "stream",
     "text": [
      "1/1 [==============================] - 0s 50ms/step\n",
      "negative\n"
     ]
    }
   ],
   "source": [
    "print(prediction('Awful day'))"
   ]
  }
 ],
 "metadata": {
  "interpreter": {
   "hash": "81794d4967e6c3204c66dcd87b604927b115b27c00565d3d43f05ba2f3a2cb0d"
  },
  "kernelspec": {
   "display_name": "Python 3 (ipykernel)",
   "language": "python",
   "name": "python3"
  },
  "language_info": {
   "codemirror_mode": {
    "name": "ipython",
    "version": 3
   },
   "file_extension": ".py",
   "mimetype": "text/x-python",
   "name": "python",
   "nbconvert_exporter": "python",
   "pygments_lexer": "ipython3",
   "version": "3.9.12"
  }
 },
 "nbformat": 4,
 "nbformat_minor": 5
}
