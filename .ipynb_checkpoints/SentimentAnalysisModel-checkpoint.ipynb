{
 "cells": [
  {
   "cell_type": "code",
   "execution_count": 1,
   "id": "2d2a255c-7a8c-40b0-aa49-f32a42b0ffa5",
   "metadata": {},
   "outputs": [],
   "source": [
    "import numpy as np\n",
    "import pandas as pd\n",
    "from keras.datasets import imdb\n",
    "from keras import models, regularizers, layers"
   ]
  },
  {
   "cell_type": "code",
   "execution_count": 2,
   "id": "f2722d57-f305-425a-9fb2-6067610651fc",
   "metadata": {},
   "outputs": [],
   "source": [
    "(train_X, train_y), (test_X, test_y) = imdb.load_data(\n",
    "num_words=10000)"
   ]
  },
  {
   "cell_type": "code",
   "execution_count": 3,
   "id": "54090cb6-c1d8-4109-b49c-6c9279c69fab",
   "metadata": {},
   "outputs": [],
   "source": [
    "word_index = imdb.get_word_index()"
   ]
  },
  {
   "cell_type": "code",
   "execution_count": 4,
   "id": "7aef0a72-17f6-4706-ac95-de29b04d1327",
   "metadata": {},
   "outputs": [],
   "source": [
    "# Save\n",
    "np.save('word_index.npy', word_index) \n"
   ]
  },
  {
   "cell_type": "code",
   "execution_count": 5,
   "id": "34ac5860-ca5c-409b-a8e3-f847589d38a0",
   "metadata": {},
   "outputs": [],
   "source": [
    "#orderedMapOfWords = sorted(word_index.items(), key=lambda x: x[1], reverse=False)\n",
    "#print(orderedMapOfWords)"
   ]
  },
  {
   "cell_type": "code",
   "execution_count": 6,
   "id": "8d386edf-187f-4770-a469-6b8f89c51ad5",
   "metadata": {},
   "outputs": [],
   "source": [
    "def vectorize_reviews(reviews, length=10000):\n",
    "    results = np.zeros((len(reviews), length))\n",
    "    for i, review in enumerate(reviews):\n",
    "        results[i, review] = 1\n",
    "    return results"
   ]
  },
  {
   "cell_type": "code",
   "execution_count": 20,
   "id": "a47fdeae-3b04-421d-a71d-897bf01f1ab8",
   "metadata": {},
   "outputs": [
    {
     "name": "stdout",
     "output_type": "stream",
     "text": [
      "<built-in method astype of numpy.ndarray object at 0x7f7e9ce326f0>\n"
     ]
    },
    {
     "data": {
      "text/plain": [
       "10000"
      ]
     },
     "execution_count": 20,
     "metadata": {},
     "output_type": "execute_result"
    }
   ],
   "source": [
    "x_train = vectorize_reviews(train_X)\n",
    "x_test = vectorize_reviews(test_X)\n",
    "print(x_train.astype)\n",
    "len(x_train[0])"
   ]
  },
  {
   "cell_type": "code",
   "execution_count": 8,
   "id": "a8ab3d59-b724-4c33-8098-bf3e9bdc3164",
   "metadata": {},
   "outputs": [
    {
     "data": {
      "text/plain": [
       "array([0., 1., 1., 0., 1.], dtype=float32)"
      ]
     },
     "execution_count": 8,
     "metadata": {},
     "output_type": "execute_result"
    }
   ],
   "source": [
    "y_train = np.asarray(train_y).astype('float32')\n",
    "y_test = np.asarray(test_y).astype('float32')\n",
    "y_train[:5]\n",
    "y_test[:5]"
   ]
  },
  {
   "cell_type": "code",
   "execution_count": 9,
   "id": "928fd1a1-8c88-455e-9130-bdcb47ada742",
   "metadata": {},
   "outputs": [
    {
     "name": "stderr",
     "output_type": "stream",
     "text": [
      "2022-05-30 14:01:34.525801: I tensorflow/core/platform/cpu_feature_guard.cc:193] This TensorFlow binary is optimized with oneAPI Deep Neural Network Library (oneDNN) to use the following CPU instructions in performance-critical operations:  AVX2 FMA\n",
      "To enable them in other operations, rebuild TensorFlow with the appropriate compiler flags.\n"
     ]
    }
   ],
   "source": [
    "model = models.Sequential()\n",
    "model.add(layers.Dense(16, kernel_regularizer=regularizers.l1_l2(l1=0.001, l2=0.001),activation='relu', input_shape=(10000,)))\n",
    "model.add(layers.Dense(16, kernel_regularizer=regularizers.l1_l2(l1=0.001, l2=0.001),activation='relu'))\n",
    "model.add(layers.Dense(1, activation='sigmoid'))"
   ]
  },
  {
   "cell_type": "code",
   "execution_count": 12,
   "id": "019ada89-c908-48f4-b119-bb8e4a7fba4d",
   "metadata": {},
   "outputs": [
    {
     "name": "stdout",
     "output_type": "stream",
     "text": [
      "Epoch 1/26\n",
      "32/32 [==============================] - 3s 79ms/step - loss: 0.5000 - acc: 0.8950 - val_loss: 0.4696 - val_acc: 0.8750\n",
      "Epoch 2/26\n",
      "32/32 [==============================] - 1s 24ms/step - loss: 0.4519 - acc: 0.9049 - val_loss: 0.4777 - val_acc: 0.8753\n",
      "Epoch 3/26\n",
      "32/32 [==============================] - 1s 22ms/step - loss: 0.4544 - acc: 0.9032 - val_loss: 0.4753 - val_acc: 0.8732\n",
      "Epoch 4/26\n",
      "32/32 [==============================] - 1s 22ms/step - loss: 0.4505 - acc: 0.9055 - val_loss: 0.4903 - val_acc: 0.8678\n",
      "Epoch 5/26\n",
      "32/32 [==============================] - 1s 23ms/step - loss: 0.4490 - acc: 0.9048 - val_loss: 0.5413 - val_acc: 0.8502\n",
      "Epoch 6/26\n",
      "32/32 [==============================] - 1s 23ms/step - loss: 0.4461 - acc: 0.9073 - val_loss: 0.5213 - val_acc: 0.8552\n",
      "Epoch 7/26\n",
      "32/32 [==============================] - 1s 22ms/step - loss: 0.4421 - acc: 0.9072 - val_loss: 0.4796 - val_acc: 0.8763\n",
      "Epoch 8/26\n",
      "32/32 [==============================] - 1s 23ms/step - loss: 0.4410 - acc: 0.9089 - val_loss: 0.4932 - val_acc: 0.8718\n",
      "Epoch 9/26\n",
      "32/32 [==============================] - 1s 23ms/step - loss: 0.4361 - acc: 0.9111 - val_loss: 0.4853 - val_acc: 0.8761\n",
      "Epoch 10/26\n",
      "32/32 [==============================] - 1s 24ms/step - loss: 0.4351 - acc: 0.9096 - val_loss: 0.4899 - val_acc: 0.8765\n",
      "Epoch 11/26\n",
      "32/32 [==============================] - 1s 23ms/step - loss: 0.4304 - acc: 0.9122 - val_loss: 0.4956 - val_acc: 0.8741\n",
      "Epoch 12/26\n",
      "32/32 [==============================] - 1s 23ms/step - loss: 0.4343 - acc: 0.9112 - val_loss: 0.4928 - val_acc: 0.8744\n",
      "Epoch 13/26\n",
      "32/32 [==============================] - 1s 23ms/step - loss: 0.4255 - acc: 0.9146 - val_loss: 0.4941 - val_acc: 0.8755\n",
      "Epoch 14/26\n",
      "32/32 [==============================] - 1s 23ms/step - loss: 0.4236 - acc: 0.9134 - val_loss: 0.5229 - val_acc: 0.8634\n",
      "Epoch 15/26\n",
      "32/32 [==============================] - 1s 24ms/step - loss: 0.4239 - acc: 0.9181 - val_loss: 0.4979 - val_acc: 0.8730\n",
      "Epoch 16/26\n",
      "32/32 [==============================] - 1s 25ms/step - loss: 0.4231 - acc: 0.9138 - val_loss: 0.5713 - val_acc: 0.8474\n",
      "Epoch 17/26\n",
      "32/32 [==============================] - 1s 23ms/step - loss: 0.4183 - acc: 0.9171 - val_loss: 0.5109 - val_acc: 0.8692\n",
      "Epoch 18/26\n",
      "32/32 [==============================] - 1s 24ms/step - loss: 0.4175 - acc: 0.9189 - val_loss: 0.4969 - val_acc: 0.8761\n",
      "Epoch 19/26\n",
      "32/32 [==============================] - 1s 23ms/step - loss: 0.4124 - acc: 0.9195 - val_loss: 0.5133 - val_acc: 0.8667\n",
      "Epoch 20/26\n",
      "32/32 [==============================] - 1s 23ms/step - loss: 0.4136 - acc: 0.9199 - val_loss: 0.5002 - val_acc: 0.8748\n",
      "Epoch 21/26\n",
      "32/32 [==============================] - 1s 24ms/step - loss: 0.4126 - acc: 0.9200 - val_loss: 0.5018 - val_acc: 0.8748\n",
      "Epoch 22/26\n",
      "32/32 [==============================] - 1s 28ms/step - loss: 0.4099 - acc: 0.9216 - val_loss: 0.5574 - val_acc: 0.8543\n",
      "Epoch 23/26\n",
      "32/32 [==============================] - 1s 25ms/step - loss: 0.4046 - acc: 0.9221 - val_loss: 0.5401 - val_acc: 0.8565\n",
      "Epoch 24/26\n",
      "32/32 [==============================] - 1s 24ms/step - loss: 0.4099 - acc: 0.9218 - val_loss: 0.5177 - val_acc: 0.8665\n",
      "Epoch 25/26\n",
      "32/32 [==============================] - 1s 24ms/step - loss: 0.3974 - acc: 0.9269 - val_loss: 0.5013 - val_acc: 0.8755\n",
      "Epoch 26/26\n",
      "32/32 [==============================] - 1s 25ms/step - loss: 0.4019 - acc: 0.9248 - val_loss: 0.5726 - val_acc: 0.8520\n",
      "782/782 [==============================] - 3s 4ms/step - loss: 0.5807 - acc: 0.8467\n",
      "____________________________________________________________________________________________________\n",
      "Test Loss and Accuracy\n",
      "results  [0.5806907415390015, 0.8467199802398682]\n",
      "INFO:tensorflow:Assets written to: sentimentAnalysis.model/assets\n"
     ]
    }
   ],
   "source": [
    "NumEpochs = 26\n",
    "BatchSize = 400\n",
    "\n",
    "model.compile(optimizer='rmsprop', loss='binary_crossentropy', metrics=['acc'])\n",
    "\n",
    "history = model.fit(x_train, y_train, epochs=NumEpochs, batch_size=BatchSize, validation_split=0.5)\n",
    "\n",
    "results = model.evaluate(x_test, y_test)\n",
    "print(\"_\"*100)\n",
    "print(\"Test Loss and Accuracy\")\n",
    "print(\"results \", results)\n",
    "history_dict = history.history\n",
    "\n",
    "model.save('sentimentAnalysis.model')"
   ]
  },
  {
   "cell_type": "code",
   "execution_count": 13,
   "id": "9f9a4c9e-1555-4cdb-9a3c-a9092a65140c",
   "metadata": {},
   "outputs": [
    {
     "data": {
      "text/plain": [
       "'float32'"
      ]
     },
     "execution_count": 13,
     "metadata": {},
     "output_type": "execute_result"
    }
   ],
   "source": [
    "model.dtype"
   ]
  },
  {
   "cell_type": "code",
   "execution_count": 17,
   "id": "927dae85-86a9-4c0f-ad63-1fca65eef625",
   "metadata": {},
   "outputs": [
    {
     "name": "stdout",
     "output_type": "stream",
     "text": [
      "WARNING:tensorflow:Model was constructed with shape (None, 10000) for input KerasTensor(type_spec=TensorSpec(shape=(None, 10000), dtype=tf.float32, name='dense_input'), name='dense_input', description=\"created by layer 'dense_input'\"), but it was called on an input with incompatible shape (None,).\n"
     ]
    },
    {
     "ename": "ValueError",
     "evalue": "in user code:\n\n    File \"/opt/anaconda3/envs/project1/lib/python3.9/site-packages/keras/engine/training.py\", line 1845, in predict_function  *\n        return step_function(self, iterator)\n    File \"/opt/anaconda3/envs/project1/lib/python3.9/site-packages/keras/engine/training.py\", line 1834, in step_function  **\n        outputs = model.distribute_strategy.run(run_step, args=(data,))\n    File \"/opt/anaconda3/envs/project1/lib/python3.9/site-packages/keras/engine/training.py\", line 1823, in run_step  **\n        outputs = model.predict_step(data)\n    File \"/opt/anaconda3/envs/project1/lib/python3.9/site-packages/keras/engine/training.py\", line 1791, in predict_step\n        return self(x, training=False)\n    File \"/opt/anaconda3/envs/project1/lib/python3.9/site-packages/keras/utils/traceback_utils.py\", line 67, in error_handler\n        raise e.with_traceback(filtered_tb) from None\n    File \"/opt/anaconda3/envs/project1/lib/python3.9/site-packages/keras/engine/input_spec.py\", line 228, in assert_input_compatibility\n        raise ValueError(f'Input {input_index} of layer \"{layer_name}\" '\n\n    ValueError: Exception encountered when calling layer \"sequential\" (type Sequential).\n    \n    Input 0 of layer \"dense\" is incompatible with the layer: expected min_ndim=2, found ndim=1. Full shape received: (None,)\n    \n    Call arguments received by layer \"sequential\" (type Sequential):\n      • inputs=tf.Tensor(shape=(None,), dtype=int64)\n      • training=False\n      • mask=None\n",
     "output_type": "error",
     "traceback": [
      "\u001b[0;31m---------------------------------------------------------------------------\u001b[0m",
      "\u001b[0;31mValueError\u001b[0m                                Traceback (most recent call last)",
      "Input \u001b[0;32mIn [17]\u001b[0m, in \u001b[0;36m<cell line: 1>\u001b[0;34m()\u001b[0m\n\u001b[0;32m----> 1\u001b[0m \u001b[43mmodel\u001b[49m\u001b[38;5;241;43m.\u001b[39;49m\u001b[43mpredict\u001b[49m\u001b[43m(\u001b[49m\u001b[38;5;28;43mlist\u001b[39;49m\u001b[43m(\u001b[49m\u001b[43m[\u001b[49m\u001b[38;5;241;43m13\u001b[39;49m\u001b[43m,\u001b[49m\u001b[38;5;241;43m42\u001b[39;49m\u001b[43m,\u001b[49m\u001b[38;5;241;43m4\u001b[39;49m\u001b[43m]\u001b[49m\u001b[43m)\u001b[49m\u001b[43m)\u001b[49m\n",
      "File \u001b[0;32m/opt/anaconda3/envs/project1/lib/python3.9/site-packages/keras/utils/traceback_utils.py:67\u001b[0m, in \u001b[0;36mfilter_traceback.<locals>.error_handler\u001b[0;34m(*args, **kwargs)\u001b[0m\n\u001b[1;32m     65\u001b[0m \u001b[38;5;28;01mexcept\u001b[39;00m \u001b[38;5;167;01mException\u001b[39;00m \u001b[38;5;28;01mas\u001b[39;00m e:  \u001b[38;5;66;03m# pylint: disable=broad-except\u001b[39;00m\n\u001b[1;32m     66\u001b[0m   filtered_tb \u001b[38;5;241m=\u001b[39m _process_traceback_frames(e\u001b[38;5;241m.\u001b[39m__traceback__)\n\u001b[0;32m---> 67\u001b[0m   \u001b[38;5;28;01mraise\u001b[39;00m e\u001b[38;5;241m.\u001b[39mwith_traceback(filtered_tb) \u001b[38;5;28;01mfrom\u001b[39;00m \u001b[38;5;28mNone\u001b[39m\n\u001b[1;32m     68\u001b[0m \u001b[38;5;28;01mfinally\u001b[39;00m:\n\u001b[1;32m     69\u001b[0m   \u001b[38;5;28;01mdel\u001b[39;00m filtered_tb\n",
      "File \u001b[0;32m/var/folders/m2/ljl29l9d2gv047nqs3rs0pdr0000gn/T/__autograph_generated_fileh_09ytjo.py:15\u001b[0m, in \u001b[0;36mouter_factory.<locals>.inner_factory.<locals>.tf__predict_function\u001b[0;34m(iterator)\u001b[0m\n\u001b[1;32m     13\u001b[0m \u001b[38;5;28;01mtry\u001b[39;00m:\n\u001b[1;32m     14\u001b[0m     do_return \u001b[38;5;241m=\u001b[39m \u001b[38;5;28;01mTrue\u001b[39;00m\n\u001b[0;32m---> 15\u001b[0m     retval_ \u001b[38;5;241m=\u001b[39m ag__\u001b[38;5;241m.\u001b[39mconverted_call(ag__\u001b[38;5;241m.\u001b[39mld(step_function), (ag__\u001b[38;5;241m.\u001b[39mld(\u001b[38;5;28mself\u001b[39m), ag__\u001b[38;5;241m.\u001b[39mld(iterator)), \u001b[38;5;28;01mNone\u001b[39;00m, fscope)\n\u001b[1;32m     16\u001b[0m \u001b[38;5;28;01mexcept\u001b[39;00m:\n\u001b[1;32m     17\u001b[0m     do_return \u001b[38;5;241m=\u001b[39m \u001b[38;5;28;01mFalse\u001b[39;00m\n",
      "\u001b[0;31mValueError\u001b[0m: in user code:\n\n    File \"/opt/anaconda3/envs/project1/lib/python3.9/site-packages/keras/engine/training.py\", line 1845, in predict_function  *\n        return step_function(self, iterator)\n    File \"/opt/anaconda3/envs/project1/lib/python3.9/site-packages/keras/engine/training.py\", line 1834, in step_function  **\n        outputs = model.distribute_strategy.run(run_step, args=(data,))\n    File \"/opt/anaconda3/envs/project1/lib/python3.9/site-packages/keras/engine/training.py\", line 1823, in run_step  **\n        outputs = model.predict_step(data)\n    File \"/opt/anaconda3/envs/project1/lib/python3.9/site-packages/keras/engine/training.py\", line 1791, in predict_step\n        return self(x, training=False)\n    File \"/opt/anaconda3/envs/project1/lib/python3.9/site-packages/keras/utils/traceback_utils.py\", line 67, in error_handler\n        raise e.with_traceback(filtered_tb) from None\n    File \"/opt/anaconda3/envs/project1/lib/python3.9/site-packages/keras/engine/input_spec.py\", line 228, in assert_input_compatibility\n        raise ValueError(f'Input {input_index} of layer \"{layer_name}\" '\n\n    ValueError: Exception encountered when calling layer \"sequential\" (type Sequential).\n    \n    Input 0 of layer \"dense\" is incompatible with the layer: expected min_ndim=2, found ndim=1. Full shape received: (None,)\n    \n    Call arguments received by layer \"sequential\" (type Sequential):\n      • inputs=tf.Tensor(shape=(None,), dtype=int64)\n      • training=False\n      • mask=None\n"
     ]
    }
   ],
   "source": []
  },
  {
   "cell_type": "code",
   "execution_count": null,
   "id": "02d61e4e-0318-4607-a74c-8c0cc78cfbde",
   "metadata": {},
   "outputs": [],
   "source": []
  },
  {
   "cell_type": "code",
   "execution_count": null,
   "id": "653e2410-cd15-4f3a-8d93-704255c15106",
   "metadata": {},
   "outputs": [],
   "source": []
  }
 ],
 "metadata": {
  "kernelspec": {
   "display_name": "Python 3 (ipykernel)",
   "language": "python",
   "name": "python3"
  },
  "language_info": {
   "codemirror_mode": {
    "name": "ipython",
    "version": 3
   },
   "file_extension": ".py",
   "mimetype": "text/x-python",
   "name": "python",
   "nbconvert_exporter": "python",
   "pygments_lexer": "ipython3",
   "version": "3.9.12"
  }
 },
 "nbformat": 4,
 "nbformat_minor": 5
}
