{
 "cells": [
  {
   "cell_type": "code",
   "execution_count": 1,
   "id": "956e093f-c3c4-4e1a-9f23-d15ef5d0f154",
   "metadata": {},
   "outputs": [],
   "source": [
    "import requests\n",
    "from bs4 import BeautifulSoup as bet"
   ]
  },
  {
   "cell_type": "code",
   "execution_count": 2,
   "id": "8632f491-3ffd-4b57-b538-9cdbafc0db78",
   "metadata": {},
   "outputs": [],
   "source": [
    "URL = \"https://www.rottentomatoes.com/m/crimes_of_the_future_2022/reviews?type=user\"\n",
    "page = requests.get(URL)\n",
    "#print(page.text)"
   ]
  },
  {
   "cell_type": "code",
   "execution_count": 3,
   "id": "7edea23c-2c3f-4c67-99cc-45e16ceb11e2",
   "metadata": {},
   "outputs": [],
   "source": [
    "soup = bet(page.content, \"html.parser\")\n",
    "#print(soup)"
   ]
  },
  {
   "cell_type": "code",
   "execution_count": 4,
   "id": "1ba509bc-2032-47dc-921c-2ec152fdb370",
   "metadata": {},
   "outputs": [],
   "source": [
    "results = soup.find_all(attrs={\"data-qa\":\"review-text\"})"
   ]
  },
  {
   "cell_type": "code",
   "execution_count": 5,
   "id": "56e60ed1-ea28-48bb-bee6-a02af9bf417e",
   "metadata": {},
   "outputs": [],
   "source": [
    "import import_ipynb as ipynb"
   ]
  },
  {
   "cell_type": "code",
   "execution_count": 6,
   "id": "7193c621-f157-49f0-8d33-ef753c4d0023",
   "metadata": {},
   "outputs": [
    {
     "name": "stdout",
     "output_type": "stream",
     "text": [
      "importing Jupyter notebook from SentimentAnalysis.ipynb\n"
     ]
    },
    {
     "name": "stderr",
     "output_type": "stream",
     "text": [
      "2022-06-07 21:17:22.071276: I tensorflow/core/platform/cpu_feature_guard.cc:193] This TensorFlow binary is optimized with oneAPI Deep Neural Network Library (oneDNN) to use the following CPU instructions in performance-critical operations:  AVX2 FMA\n",
      "To enable them in other operations, rebuild TensorFlow with the appropriate compiler flags.\n"
     ]
    },
    {
     "name": "stdout",
     "output_type": "stream",
     "text": [
      "1/1 [==============================] - 0s 264ms/step\n",
      "negative\n"
     ]
    }
   ],
   "source": [
    "import SentimentAnalysis as analise"
   ]
  },
  {
   "cell_type": "code",
   "execution_count": 7,
   "id": "d60449ad-94e1-4bba-a79c-cb2618300cc8",
   "metadata": {},
   "outputs": [],
   "source": [
    "def convert(s):\n",
    "    # initialization of string to \"\"\n",
    "    new = \"\"\n",
    "    # traverse in the string \n",
    "    for x in s:\n",
    "        new += x \n",
    "    # return string \n",
    "    return new"
   ]
  },
  {
   "cell_type": "code",
   "execution_count": 8,
   "id": "debe5de0",
   "metadata": {},
   "outputs": [
    {
     "name": "stdout",
     "output_type": "stream",
     "text": [
      "1/1 [==============================] - 0s 20ms/step\n",
      "1/1 [==============================] - 0s 18ms/step\n",
      "1/1 [==============================] - 0s 19ms/step\n",
      "1/1 [==============================] - 0s 19ms/step\n",
      "1/1 [==============================] - 0s 18ms/step\n",
      "1/1 [==============================] - 0s 19ms/step\n",
      "1/1 [==============================] - 0s 19ms/step\n",
      "1/1 [==============================] - 0s 32ms/step\n",
      "1/1 [==============================] - 0s 18ms/step\n",
      "1/1 [==============================] - 0s 18ms/step\n"
     ]
    }
   ],
   "source": [
    "toSave = ''\n",
    "for result in results:\n",
    "    review = result.get_text()\n",
    "    sentiment = analise.prediction(review)\n",
    "    toSave+=review + \"\\n\" + sentiment + \"\\n\" + \"\\n\""
   ]
  },
  {
   "cell_type": "code",
   "execution_count": 9,
   "id": "3f6e0ae3-697d-4f6f-83ca-a2d4b6388121",
   "metadata": {},
   "outputs": [],
   "source": [
    "with open('predictedComments.txt', 'w') as f:\n",
    "        f.write(toSave)"
   ]
  },
  {
   "cell_type": "code",
   "execution_count": null,
   "id": "2e5bd8a8-1bda-4733-8661-d715fa7fc15a",
   "metadata": {},
   "outputs": [],
   "source": []
  },
  {
   "cell_type": "code",
   "execution_count": null,
   "id": "408d1263-b341-4aca-9273-49c31ec707c8",
   "metadata": {},
   "outputs": [],
   "source": []
  }
 ],
 "metadata": {
  "interpreter": {
   "hash": "81794d4967e6c3204c66dcd87b604927b115b27c00565d3d43f05ba2f3a2cb0d"
  },
  "kernelspec": {
   "display_name": "Python 3 (ipykernel)",
   "language": "python",
   "name": "python3"
  },
  "language_info": {
   "codemirror_mode": {
    "name": "ipython",
    "version": 3
   },
   "file_extension": ".py",
   "mimetype": "text/x-python",
   "name": "python",
   "nbconvert_exporter": "python",
   "pygments_lexer": "ipython3",
   "version": "3.9.12"
  }
 },
 "nbformat": 4,
 "nbformat_minor": 5
}
