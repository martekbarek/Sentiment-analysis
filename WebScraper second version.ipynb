{
 "cells": [
  {
   "cell_type": "code",
   "execution_count": 142,
   "id": "956e093f-c3c4-4e1a-9f23-d15ef5d0f154",
   "metadata": {},
   "outputs": [],
   "source": [
    "import requests\n",
    "from bs4 import BeautifulSoup as bet"
   ]
  },
  {
   "cell_type": "code",
   "execution_count": 143,
   "id": "8632f491-3ffd-4b57-b538-9cdbafc0db78",
   "metadata": {},
   "outputs": [],
   "source": [
    "URL = \"https://www.rottentomatoes.com/m/crimes_of_the_future_2022/reviews?type=user\"\n",
    "page = requests.get(URL)\n",
    "#print(page.text)"
   ]
  },
  {
   "cell_type": "code",
   "execution_count": 144,
   "id": "7edea23c-2c3f-4c67-99cc-45e16ceb11e2",
   "metadata": {},
   "outputs": [],
   "source": [
    "soup = bet(page.content, \"html.parser\")\n",
    "#print(soup)"
   ]
  },
  {
   "cell_type": "code",
   "execution_count": 145,
   "id": "1ba509bc-2032-47dc-921c-2ec152fdb370",
   "metadata": {},
   "outputs": [],
   "source": [
    "results = soup.find_all(attrs={\"data-qa\":\"review-text\"})"
   ]
  },
  {
   "cell_type": "code",
   "execution_count": 146,
   "id": "debe5de0",
   "metadata": {},
   "outputs": [],
   "source": [
    "for result in results:\n",
    "    comments.extend(result.getText())"
   ]
  },
  {
   "cell_type": "code",
   "execution_count": 147,
   "id": "cbf46447",
   "metadata": {},
   "outputs": [],
   "source": [
    "def convert(s):\n",
    "  \n",
    "    # initialization of string to \"\"\n",
    "    new = \"\"\n",
    "  \n",
    "    # traverse in the string \n",
    "    for x in s:\n",
    "        new += x \n",
    "  \n",
    "    # return string \n",
    "    return new"
   ]
  },
  {
   "cell_type": "code",
   "execution_count": 148,
   "id": "1860647b",
   "metadata": {},
   "outputs": [
    {
     "data": {
      "text/plain": [
       "'Comments:Intriguing and confusing at times, this one’s an acquired taste not for the squeamish The crime was that this movie was made in the first place. The good acting was a waste of talent in this one.This may not be Cronenberg\\'s best, but it was very thought-provoking.  The movie iteself was a little slow.  The acting is top-notch even though the story is a little all over the place.  I wasn\\'t sure how I felt about the movie, but when I left the theater I couldn\\'t stop thinking about it.  It\\'s worth checking out at some pointgreat cast performances. original story. fulfilling ending.Pointless and boring. Nothing of interest really happens after the first five minutes. This isn\\'t even body horror. It\\'s a drama with some gory surgery scenes added every so often. A huge disappointment from Cronenberg who\\'s usually pretty reliable. Watch his son\\'s work instead. He\\'s still getting it done.Great ideas and plots that needed to be fleshed out more (pun intended). Would have worked better as a more conventional thriller.Weird and off the beaten path of a movie. Definitely signature film of the maker. The special effects are characteristic of his work, deliberately made to look fake but signature Cronenberg style. \\n\\nI even think the guy from Spider-man was in it. \\n\\nIt was interesting in a weird way. And the kid is a prop, not real. \\n\\nIt\\'s a pretty simple story, but delivered in a very all over the place way. \\n\\nIt was ok.A fearful allegory; David Cronenberg\\'s new film, \"Crimes of the Future\", begins with a transgressive act and ends with a transcendent one. In between, Cronenberg makes what may be his most caustic political statement; though satirically and with great humanity. \"Crimes\" attends his career long obsession with the human body—texturally, functionally, sexually. The performances are in service to the message, and Viggo Mortensen, Léa Seydoux, Kristen Stewart, Scott Speedman, Yorgos Karamihos, Tanaya Beatty and Nadia Litz serve it well indeed.Slow, measured, methodical, calculating, and low key yet alarming. This movie lives in the suspense of it conversations and replaces action with it\\'s can\\'t look away body horror shock. It was very Cronenberg with its look and feel. The sets were a mix of dirty basements and crumbling cities mixed with the biologically alive looking machines and tube television. I enjoy this very much but the 3rd act faltered a bit. There were a few real hard left turns seemingly out of nowhere that I didn\\'t care for. I thought Léa Seydoux, Kristin Stewart, and Don McKellar were very good and all their scenes were pretty riveting.Several people walked out because it was beyond boring. I expected it to be better. Something. Anything. It was the most uneventful movie ever.Intriguing and confusing at times, this one’s an acquired taste not for the squeamish The crime was that this movie was made in the first place. The good acting was a waste of talent in this one.This may not be Cronenberg\\'s best, but it was very thought-provoking.  The movie iteself was a little slow.  The acting is top-notch even though the story is a little all over the place.  I wasn\\'t sure how I felt about the movie, but when I left the theater I couldn\\'t stop thinking about it.  It\\'s worth checking out at some pointgreat cast performances. original story. fulfilling ending.Pointless and boring. Nothing of interest really happens after the first five minutes. This isn\\'t even body horror. It\\'s a drama with some gory surgery scenes added every so often. A huge disappointment from Cronenberg who\\'s usually pretty reliable. Watch his son\\'s work instead. He\\'s still getting it done.Great ideas and plots that needed to be fleshed out more (pun intended). Would have worked better as a more conventional thriller.Weird and off the beaten path of a movie. Definitely signature film of the maker. The special effects are characteristic of his work, deliberately made to look fake but signature Cronenberg style. \\n\\nI even think the guy from Spider-man was in it. \\n\\nIt was interesting in a weird way. And the kid is a prop, not real. \\n\\nIt\\'s a pretty simple story, but delivered in a very all over the place way. \\n\\nIt was ok.A fearful allegory; David Cronenberg\\'s new film, \"Crimes of the Future\", begins with a transgressive act and ends with a transcendent one. In between, Cronenberg makes what may be his most caustic political statement; though satirically and with great humanity. \"Crimes\" attends his career long obsession with the human body—texturally, functionally, sexually. The performances are in service to the message, and Viggo Mortensen, Léa Seydoux, Kristen Stewart, Scott Speedman, Yorgos Karamihos, Tanaya Beatty and Nadia Litz serve it well indeed.Slow, measured, methodical, calculating, and low key yet alarming. This movie lives in the suspense of it conversations and replaces action with it\\'s can\\'t look away body horror shock. It was very Cronenberg with its look and feel. The sets were a mix of dirty basements and crumbling cities mixed with the biologically alive looking machines and tube television. I enjoy this very much but the 3rd act faltered a bit. There were a few real hard left turns seemingly out of nowhere that I didn\\'t care for. I thought Léa Seydoux, Kristin Stewart, and Don McKellar were very good and all their scenes were pretty riveting.Several people walked out because it was beyond boring. I expected it to be better. Something. Anything. It was the most uneventful movie ever.Intriguing and confusing at times, this one’s an acquired taste not for the squeamish The crime was that this movie was made in the first place. The good acting was a waste of talent in this one.This may not be Cronenberg\\'s best, but it was very thought-provoking.  The movie iteself was a little slow.  The acting is top-notch even though the story is a little all over the place.  I wasn\\'t sure how I felt about the movie, but when I left the theater I couldn\\'t stop thinking about it.  It\\'s worth checking out at some pointgreat cast performances. original story. fulfilling ending.Pointless and boring. Nothing of interest really happens after the first five minutes. This isn\\'t even body horror. It\\'s a drama with some gory surgery scenes added every so often. A huge disappointment from Cronenberg who\\'s usually pretty reliable. Watch his son\\'s work instead. He\\'s still getting it done.Great ideas and plots that needed to be fleshed out more (pun intended). Would have worked better as a more conventional thriller.Weird and off the beaten path of a movie. Definitely signature film of the maker. The special effects are characteristic of his work, deliberately made to look fake but signature Cronenberg style. \\n\\nI even think the guy from Spider-man was in it. \\n\\nIt was interesting in a weird way. And the kid is a prop, not real. \\n\\nIt\\'s a pretty simple story, but delivered in a very all over the place way. \\n\\nIt was ok.A fearful allegory; David Cronenberg\\'s new film, \"Crimes of the Future\", begins with a transgressive act and ends with a transcendent one. In between, Cronenberg makes what may be his most caustic political statement; though satirically and with great humanity. \"Crimes\" attends his career long obsession with the human body—texturally, functionally, sexually. The performances are in service to the message, and Viggo Mortensen, Léa Seydoux, Kristen Stewart, Scott Speedman, Yorgos Karamihos, Tanaya Beatty and Nadia Litz serve it well indeed.Slow, measured, methodical, calculating, and low key yet alarming. This movie lives in the suspense of it conversations and replaces action with it\\'s can\\'t look away body horror shock. It was very Cronenberg with its look and feel. The sets were a mix of dirty basements and crumbling cities mixed with the biologically alive looking machines and tube television. I enjoy this very much but the 3rd act faltered a bit. There were a few real hard left turns seemingly out of nowhere that I didn\\'t care for. I thought Léa Seydoux, Kristin Stewart, and Don McKellar were very good and all their scenes were pretty riveting.Several people walked out because it was beyond boring. I expected it to be better. Something. Anything. It was the most uneventful movie ever.'"
      ]
     },
     "execution_count": 148,
     "metadata": {},
     "output_type": "execute_result"
    }
   ],
   "source": [
    "convert(comments)"
   ]
  },
  {
   "cell_type": "code",
   "execution_count": 149,
   "id": "b124819e-b538-4688-8460-810f6a29ed12",
   "metadata": {},
   "outputs": [],
   "source": [
    "#for job_element in job_elements:\n",
    "#    print(job_element, end=\"\\n\"*2)\n",
    "   "
   ]
  },
  {
   "cell_type": "code",
   "execution_count": 150,
   "id": "eb37de72-06e5-4168-aa2b-8d9676668edb",
   "metadata": {},
   "outputs": [],
   "source": [
    "#for job_element in job_elements:\n",
    "#    print(job_element, end=\"\\n\"*2)\n",
    "    \n",
    "#for job_element in job_elements:\n",
    "#    reviewquote = job_element.find(\"p\", class_=\"quote\")\n",
    "#    print(reviewquote.text.strip())\n",
    "#    location_element = job_element.find(\"p\", class_=\"location\")\n",
    "#    print(title_element.text.strip())\n",
    "#    print(company_element.text.strip())\n",
    "#    print(location_element.text.strip())\n",
    "    \n",
    "\n",
    "#python_jobs = results.find_all(\n",
    "#    \"h2\", string=lambda text: \"python\" in text.lower()\n",
    "#)    "
   ]
  },
  {
   "cell_type": "code",
   "execution_count": null,
   "id": "12b9f4d1-b1a6-4768-86f7-e93ec06420b5",
   "metadata": {},
   "outputs": [],
   "source": []
  },
  {
   "cell_type": "code",
   "execution_count": null,
   "id": "f3d43178-4529-4491-8c13-698e08e3337c",
   "metadata": {},
   "outputs": [],
   "source": []
  }
 ],
 "metadata": {
  "interpreter": {
   "hash": "81794d4967e6c3204c66dcd87b604927b115b27c00565d3d43f05ba2f3a2cb0d"
  },
  "kernelspec": {
   "display_name": "Python 3.9.1 64-bit",
   "language": "python",
   "name": "python3"
  },
  "language_info": {
   "codemirror_mode": {
    "name": "ipython",
    "version": 3
   },
   "file_extension": ".py",
   "mimetype": "text/x-python",
   "name": "python",
   "nbconvert_exporter": "python",
   "pygments_lexer": "ipython3",
   "version": "3.9.1"
  }
 },
 "nbformat": 4,
 "nbformat_minor": 5
}
